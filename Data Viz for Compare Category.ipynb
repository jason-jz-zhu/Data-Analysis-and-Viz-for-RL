{
 "cells": [
  {
   "cell_type": "code",
   "execution_count": 50,
   "metadata": {
    "collapsed": true
   },
   "outputs": [],
   "source": [
    "import pandas as pd\n",
    "%matplotlib inline\n",
    "import matplotlib.pyplot as plt"
   ]
  },
  {
   "cell_type": "code",
   "execution_count": 39,
   "metadata": {
    "collapsed": true
   },
   "outputs": [],
   "source": [
    "# import Reinforcement Learning data\n",
    "rl = pd.read_csv('log-250-training.txt', sep=\" \", header=None)\n",
    "rl = rl.iloc[:, [7, 9, 12, 14]]\n",
    "rl.columns = ['episode_number', 'score', 'time_step', 'global_time']\n",
    "# import greedy data\n",
    "greedy = pd.read_csv('log-greedy-best-first-search.txt', sep=\" \", header=None)\n",
    "greedy = greedy.iloc[:, [7, 9, 12, 14]]\n",
    "greedy.columns = ['episode_number', 'score', 'time_step', 'global_time']\n",
    "# import random data\n",
    "random = pd.read_csv('log-random-walk.txt', sep=\" \", header=None)\n",
    "random = random.iloc[:, [7, 9, 12, 14]]\n",
    "random.columns = ['episode_number', 'score', 'time_step', 'global_time']"
   ]
  },
  {
   "cell_type": "code",
   "execution_count": 40,
   "metadata": {},
   "outputs": [],
   "source": [
    "# clean data \n",
    "rl = rl.applymap(lambda x: x if len(x.split(':')) == 1 else int(x.split(':')[1]))\n",
    "greedy = greedy.applymap(lambda x: x if len(x.split(':')) == 1 else int(x.split(':')[1]))\n",
    "random = random.applymap(lambda x: x if len(x.split(':')) == 1 else int(x.split(':')[1]))"
   ]
  },
  {
   "cell_type": "code",
   "execution_count": 41,
   "metadata": {
    "collapsed": true
   },
   "outputs": [],
   "source": [
    "rl['category'] = 'rl'\n",
    "greedy['category'] = 'greedy'\n",
    "random['category'] = 'random'"
   ]
  },
  {
   "cell_type": "code",
   "execution_count": 42,
   "metadata": {},
   "outputs": [],
   "source": [
    "data = rl.append(greedy, ignore_index=True)\n",
    "data = data.append(random, ignore_index=True)"
   ]
  },
  {
   "cell_type": "code",
   "execution_count": 43,
   "metadata": {},
   "outputs": [
    {
     "name": "stdout",
     "output_type": "stream",
     "text": [
      "   episode_number  score  time_step  global_time category\n",
      "0               0     -8          5            5       rl\n",
      "1               1   -208          5           10       rl\n",
      "2               2     -8          5           15       rl\n",
      "3               3   -105          3           18       rl\n",
      "4               4   -105          3           21       rl\n"
     ]
    }
   ],
   "source": [
    "print(data.head())"
   ]
  },
  {
   "cell_type": "code",
   "execution_count": 44,
   "metadata": {},
   "outputs": [
    {
     "data": {
      "text/plain": [
       "episode_number     int64\n",
       "score              int64\n",
       "time_step          int64\n",
       "global_time        int64\n",
       "category          object\n",
       "dtype: object"
      ]
     },
     "execution_count": 44,
     "metadata": {},
     "output_type": "execute_result"
    }
   ],
   "source": [
    "data.dtypes"
   ]
  },
  {
   "cell_type": "code",
   "execution_count": 67,
   "metadata": {},
   "outputs": [
    {
     "name": "stderr",
     "output_type": "stream",
     "text": [
      "C:\\Users\\jason\\Anaconda3\\lib\\site-packages\\numpy\\core\\fromnumeric.py:57: FutureWarning: reshape is deprecated and will raise in a subsequent release. Please use .values.reshape(...) instead\n",
      "  return getattr(obj, method)(*args, **kwds)\n"
     ]
    },
    {
     "data": {
      "image/png": "[encoded data removed]",
      "text/plain": [
       "<matplotlib.figure.Figure at 0x1cb46a042b0>"
      ]
     },
     "metadata": {},
     "output_type": "display_data"
    }
   ],
   "source": [
    "\n",
    "data[['score', 'category']].boxplot(vert=False, by='category', figsize=(20, 10), fontsize=20, grid=False)\n",
    "plt.title(\"Boxplot of Something\")\n",
    "plt.suptitle(\"test\")\n",
    "plt.xlabel('Score')\n",
    "plt.show()"
   ]
  },
  {
   "cell_type": "code",
   "execution_count": null,
   "metadata": {
    "collapsed": true
   },
   "outputs": [],
   "source": []
  }
 ],
 "metadata": {
  "kernelspec": {
   "display_name": "Python 3",
   "language": "python",
   "name": "python3"
  },
  "language_info": {
   "codemirror_mode": {
    "name": "ipython",
    "version": 3
   },
   "file_extension": ".py",
   "mimetype": "text/x-python",
   "name": "python",
   "nbconvert_exporter": "python",
   "pygments_lexer": "ipython3",
   "version": "3.6.3"
  }
 },
 "nbformat": 4,
 "nbformat_minor": 2
}
